{
 "cells": [
  {
   "cell_type": "code",
   "execution_count": 4,
   "metadata": {},
   "outputs": [
    {
     "name": "stdout",
     "output_type": "stream",
     "text": [
      "89.76923076923077\n",
      "87.0\n"
     ]
    }
   ],
   "source": [
    "\n",
    "\"\"\" \n",
    "Mean: The average Value \n",
    "Median: The mid point value\n",
    "Mode: The most common value\n",
    "\n",
    "\"\"\"\n",
    "\n",
    "# Using numpy mean() and median method to find the average speed:\n",
    "import numpy\n",
    "speed = [99,86,87,88,111,86,103,87,94,78,77,85,86]\n",
    "x = numpy.mean(speed)\n",
    "y = numpy.median(speed)\n",
    "# z = numpy.mode(speed)\n",
    "print(x)\n",
    "print(y)\n",
    "# print(z)\n"
   ]
  },
  {
   "cell_type": "code",
   "execution_count": 5,
   "metadata": {},
   "outputs": [
    {
     "ename": "ModuleNotFoundError",
     "evalue": "No module named 'scipy'",
     "output_type": "error",
     "traceback": [
      "\u001b[1;31m---------------------------------------------------------------------------\u001b[0m",
      "\u001b[1;31mModuleNotFoundError\u001b[0m                       Traceback (most recent call last)",
      "Cell \u001b[1;32mIn[5], line 2\u001b[0m\n\u001b[0;32m      1\u001b[0m \u001b[38;5;66;03m# using SciPy mode() method to find the number that appears the most:\u001b[39;00m\n\u001b[1;32m----> 2\u001b[0m \u001b[38;5;28;01mfrom\u001b[39;00m \u001b[38;5;21;01mscipy\u001b[39;00m \u001b[38;5;28;01mimport\u001b[39;00m stats\n\u001b[0;32m      3\u001b[0m speed \u001b[38;5;241m=\u001b[39m [\u001b[38;5;241m99\u001b[39m,\u001b[38;5;241m86\u001b[39m,\u001b[38;5;241m87\u001b[39m,\u001b[38;5;241m88\u001b[39m,\u001b[38;5;241m111\u001b[39m,\u001b[38;5;241m86\u001b[39m,\u001b[38;5;241m103\u001b[39m,\u001b[38;5;241m87\u001b[39m,\u001b[38;5;241m94\u001b[39m,\u001b[38;5;241m78\u001b[39m,\u001b[38;5;241m77\u001b[39m,\u001b[38;5;241m85\u001b[39m,\u001b[38;5;241m86\u001b[39m]\n\u001b[0;32m      4\u001b[0m x \u001b[38;5;241m=\u001b[39m stats\u001b[38;5;241m.\u001b[39mmode(speed)\n",
      "\u001b[1;31mModuleNotFoundError\u001b[0m: No module named 'scipy'"
     ]
    }
   ],
   "source": [
    "# using SciPy mode() method to find the number that appears the most:\n",
    "from scipy import stats\n",
    "speed = [99,86,87,88,111,86,103,87,94,78,77,85,86]\n",
    "x = stats.mode(speed)\n",
    "print(x)"
   ]
  }
 ],
 "metadata": {
  "kernelspec": {
   "display_name": "Python 3",
   "language": "python",
   "name": "python3"
  },
  "language_info": {
   "codemirror_mode": {
    "name": "ipython",
    "version": 3
   },
   "file_extension": ".py",
   "mimetype": "text/x-python",
   "name": "python",
   "nbconvert_exporter": "python",
   "pygments_lexer": "ipython3",
   "version": "3.12.3"
  }
 },
 "nbformat": 4,
 "nbformat_minor": 2
}

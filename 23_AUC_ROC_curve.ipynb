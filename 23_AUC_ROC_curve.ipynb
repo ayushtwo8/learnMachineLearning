{
 "cells": [
  {
   "cell_type": "code",
   "execution_count": 1,
   "metadata": {},
   "outputs": [
    {
     "name": "stdout",
     "output_type": "stream",
     "text": [
      "accuracy score: 0.95\n",
      "Confusion matrix\n",
      "[[   0  500]\n",
      " [   0 9500]]\n",
      "class 0 accuracy: 0.0\n",
      "class 1 accuracy: 1.0\n"
     ]
    }
   ],
   "source": [
    "# AUC - Another common metric \n",
    "# ROC - Reciever operating characteristic\n",
    "\n",
    "# Imbalanced data:\n",
    "\n",
    "import numpy as np\n",
    "from sklearn.metrics import accuracy_score, confusion_matrix, roc_auc_score, roc_curve\n",
    "\n",
    "n = 10000\n",
    "ratio = .95\n",
    "n_0 = int((1-ratio)*n)\n",
    "n_1 = int(ratio*n)\n",
    "\n",
    "y = np.array([0]*n_0+[1]*n_1)\n",
    "\n",
    "# below are the probabilities obtained from a hypothetical model that always predicts the majority class\n",
    "# Probability of predicting class 1 is going to be 100%\n",
    "\n",
    "y_proba = np.array([1]*n)\n",
    "y_pred = y_proba > .5\n",
    "\n",
    "print(f\"accuracy score: {accuracy_score(y,y_pred)}\")\n",
    "cf_mat = confusion_matrix(y, y_pred)\n",
    "print('Confusion matrix')\n",
    "print(cf_mat)\n",
    "print(f\"class 0 accuracy: {cf_mat[0][0]/n_0}\")\n",
    "print(f\"class 1 accuracy: {cf_mat[1][1]/n_1}\")"
   ]
  },
  {
   "cell_type": "code",
   "execution_count": 5,
   "metadata": {},
   "outputs": [
    {
     "name": "stdout",
     "output_type": "stream",
     "text": [
      "accuracy score: 0.715\n",
      "Confusion matrix\n",
      "[[ 360  140]\n",
      " [2710 6790]]\n",
      "class 0 accuracy: 0.72\n",
      "class 1 accuracy: 0.7147368421052631\n"
     ]
    }
   ],
   "source": [
    "\n",
    "import numpy as np\n",
    "from sklearn.metrics import accuracy_score, confusion_matrix, roc_auc_score, roc_curve\n",
    "\n",
    "n = 10000\n",
    "ratio = .95\n",
    "n_0 = int((1-ratio)*n)\n",
    "n_1 = int(ratio*n)\n",
    "\n",
    "y = np.array([0]*n_0+[1]*n_1)\n",
    "\n",
    "# below are the probabilities obtained from a hypothetical model that doesn't always predict the mode\n",
    "\n",
    "y_proba_2 = np.array(\n",
    "    np.random.uniform(0, .7, n_0).tolist() +\n",
    "    np.random.uniform(.3, 1, n_1).tolist()\n",
    ")\n",
    "y_pred_2 = y_proba_2 > .5\n",
    "\n",
    "print(f'accuracy score: {accuracy_score(y, y_pred_2)}')\n",
    "cf_mat = confusion_matrix(y, y_pred_2)\n",
    "print('Confusion matrix')\n",
    "print(cf_mat)\n",
    "print(f'class 0 accuracy: {cf_mat[0][0]/n_0}')\n",
    "print(f'class 1 accuracy: {cf_mat[1][1]/n_1}')"
   ]
  },
  {
   "cell_type": "code",
   "execution_count": 6,
   "metadata": {},
   "outputs": [
    {
     "name": "stdout",
     "output_type": "stream",
     "text": [
      "model 1 accuracy score: 0.75035\n",
      "model 2 accuracy score: 0.7516\n",
      "model 1 AUC score: 0.7768504\n",
      "model 2 AUC score: 0.8613909799999999\n"
     ]
    }
   ],
   "source": [
    "import numpy as np\n",
    "\n",
    "n = 10000\n",
    "y = np.array([0] * n + [1] * n)\n",
    "#\n",
    "y_prob_1 = np.array(\n",
    "    np.random.uniform(.25, .5, n//2).tolist() +\n",
    "    np.random.uniform(.3, .7, n).tolist() +\n",
    "    np.random.uniform(.5, .75, n//2).tolist()\n",
    ")\n",
    "y_prob_2 = np.array(\n",
    "    np.random.uniform(0, .4, n//2).tolist() +\n",
    "    np.random.uniform(.3, .7, n).tolist() +\n",
    "    np.random.uniform(.6, 1, n//2).tolist()\n",
    ")\n",
    "\n",
    "print(f'model 1 accuracy score: {accuracy_score(y, y_prob_1>.5)}')\n",
    "print(f'model 2 accuracy score: {accuracy_score(y, y_prob_2>.5)}')\n",
    "\n",
    "print(f'model 1 AUC score: {roc_auc_score(y, y_prob_1)}')\n",
    "print(f'model 2 AUC score: {roc_auc_score(y, y_prob_2)}')"
   ]
  }
 ],
 "metadata": {
  "kernelspec": {
   "display_name": "Python 3",
   "language": "python",
   "name": "python3"
  },
  "language_info": {
   "codemirror_mode": {
    "name": "ipython",
    "version": 3
   },
   "file_extension": ".py",
   "mimetype": "text/x-python",
   "name": "python",
   "nbconvert_exporter": "python",
   "pygments_lexer": "ipython3",
   "version": "3.12.3"
  }
 },
 "nbformat": 4,
 "nbformat_minor": 2
}

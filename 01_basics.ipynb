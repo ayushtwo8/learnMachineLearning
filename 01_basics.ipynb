{
 "cells": [
  {
   "cell_type": "code",
   "execution_count": null,
   "metadata": {},
   "outputs": [],
   "source": [
    "# Machine learning is a program that analyses data and learns to predict the outcome.\n",
    "# Data set: It is any collection of data.\n",
    "\"\"\" \n",
    "\n",
    "Data types:\n",
    "\n",
    "We can split data types into three main categories:\n",
    "\n",
    "--Numerical\n",
    "--Categorical: values that cannot be measured up against each other.\n",
    "--Ordinal: like categorical data but can be measured up against each other.\n",
    "\n",
    "Numerical data are numbers, and can be split into two numerical categories:\n",
    "--Discrete data: it is limited to integers.\n",
    "--Continuous data: it can be any number.\n",
    "\n",
    "\n",
    "\"\"\""
   ]
  }
 ],
 "metadata": {
  "kernelspec": {
   "display_name": "base",
   "language": "python",
   "name": "python3"
  },
  "language_info": {
   "name": "python",
   "version": "3.11.5"
  }
 },
 "nbformat": 4,
 "nbformat_minor": 2
}
